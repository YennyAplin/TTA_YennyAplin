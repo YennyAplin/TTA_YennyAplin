{
 "cells": [
  {
   "cell_type": "code",
   "execution_count": 4,
   "metadata": {},
   "outputs": [],
   "source": [
    "import numpy as np"
   ]
  },
  {
   "cell_type": "code",
   "execution_count": 91,
   "metadata": {},
   "outputs": [
    {
     "name": "stdout",
     "output_type": "stream",
     "text": [
      "[0 1 2 3 4 5 6 7 8 9]\n"
     ]
    }
   ],
   "source": [
    "# 1.Create a 1D array of numbers from 0 to 9\n",
    "array_new = np.arange(10)\n",
    "print(array_new)"
   ]
  },
  {
   "cell_type": "code",
   "execution_count": 85,
   "metadata": {},
   "outputs": [
    {
     "name": "stdout",
     "output_type": "stream",
     "text": [
      "[[ True  True  True]\n",
      " [ True  True  True]\n",
      " [ True  True  True]]\n"
     ]
    }
   ],
   "source": [
    "# 2.Create a 3×3 NumPy array of all Boolean value Trues\n",
    "BooleanTrues = np.ones((3, 3), dtype=bool)\n",
    "print(BooleanTrues)"
   ]
  },
  {
   "cell_type": "code",
   "execution_count": 10,
   "metadata": {},
   "outputs": [
    {
     "name": "stdout",
     "output_type": "stream",
     "text": [
      "[1 3 5 7 9]\n"
     ]
    }
   ],
   "source": [
    "# 3.Extract all odd numbers from array of 1 10\n",
    "\n",
    "odd_number = np.array([1, 2, 3, 4, 5, 6, 7, 8, 9, 10])\n",
    "print(odd_number[odd_number % 2 == 1])\n"
   ]
  },
  {
   "cell_type": "code",
   "execution_count": 11,
   "metadata": {},
   "outputs": [
    {
     "name": "stdout",
     "output_type": "stream",
     "text": [
      "[ 1  2  1  4  1  6  1  8  1 10]\n"
     ]
    }
   ],
   "source": [
    "# 4.Replace all odd numbers in an array of 1 10 with the value 1\n",
    "\n",
    "Number_replace = np.array([1, 2, 3, 4, 5, 6, 7, 8, 9, 10])\n",
    "Number_replace[Number_replace % 2 == 1] = 1\n",
    "print(Number_replace)"
   ]
  },
  {
   "cell_type": "code",
   "execution_count": 12,
   "metadata": {},
   "outputs": [
    {
     "name": "stdout",
     "output_type": "stream",
     "text": [
      "[[ 0  1  2  3  4  5  6]\n",
      " [ 7  8  9 10 11 12 13]]\n"
     ]
    }
   ],
   "source": [
    "# 5.Convert a 1D array to a 2D array with 2 rows\n",
    "\n",
    "array_1D = np.arange(14)\n",
    "array_2D = array_1D.reshape(2, 7) \n",
    "print(array_2D)"
   ]
  },
  {
   "cell_type": "code",
   "execution_count": 13,
   "metadata": {},
   "outputs": [
    {
     "name": "stdout",
     "output_type": "stream",
     "text": [
      "[[ 1  2  3]\n",
      " [ 4  5  6]\n",
      " [ 7  8  9]\n",
      " [10 11 12]\n",
      " [13 14 15]\n",
      " [16 17 18]]\n",
      "[[ 84  90  96]\n",
      " [201 216 231]\n",
      " [318 342 366]]\n",
      "1944\n"
     ]
    }
   ],
   "source": [
    "# 6.Create two arrays a and b, stack these two arrays vertically use the np.dot and np.sum to calculate totals\n",
    "\n",
    "a = np.arange(1,10).reshape(3,3)\n",
    "b = np.arange(10,19).reshape(3,3)\n",
    "print (np.vstack([a, b]))\n",
    "c = np.dot(a, b)\n",
    "print(c)\n",
    "total_sum = np.sum(c)\n",
    "print(total_sum)\n",
    "\n"
   ]
  },
  {
   "cell_type": "code",
   "execution_count": 14,
   "metadata": {},
   "outputs": [
    {
     "data": {
      "text/plain": [
       "array([1, 1, 1, 2, 2, 2, 3, 3, 3, 1, 2, 3, 1, 2, 3, 1, 2, 3])"
      ]
     },
     "execution_count": 14,
     "metadata": {},
     "output_type": "execute_result"
    }
   ],
   "source": [
    "# Extension\n",
    "# 1. Create the following pattern without hardcoding. Use only NumPy functions \n",
    "\n",
    "new_pattern = np.array([1,2,3])\n",
    "\n",
    "np.r_[np.repeat(new_pattern, 3), np.tile(new_pattern, 3)]\n"
   ]
  },
  {
   "cell_type": "code",
   "execution_count": 15,
   "metadata": {},
   "outputs": [
    {
     "name": "stdout",
     "output_type": "stream",
     "text": [
      "[1 2 3]\n"
     ]
    }
   ],
   "source": [
    "# 2. In two arrays a ( 1,2,3,4,5) and b ( 4,5,6,7,8,9) remove all repeating items present in array b\n",
    "\n",
    "a = np.array([ 1, 2, 3, 4, 5])\n",
    "b = np.array([ 4, 5, 6, 7, 8, 9])\n",
    "\n",
    "print(np.setdiff1d(a,b))\n"
   ]
  },
  {
   "cell_type": "code",
   "execution_count": 20,
   "metadata": {},
   "outputs": [
    {
     "name": "stdout",
     "output_type": "stream",
     "text": [
      "[3 4 5 4 5 6 7]\n",
      "34\n"
     ]
    }
   ],
   "source": [
    "# 3. Get all items between 3 and 7 from a and b and sum them together\n",
    "import numpy as np\n",
    "a = np.array([ 1, 2, 3, 4, 5])\n",
    "b = np.array([ 4, 5, 6, 7, 8, 9])\n",
    "join_ab = np.concatenate((a, b))\n",
    "\n",
    "# Extract all items between 3 and 7 ==> Note: Thus, the range to extract will include (3, 4, 5, 6, 7)]\n",
    "extract = join_ab [(3 <= join_ab) & (join_ab <= 7)]\n",
    "print(extract)\n",
    "print(sum(extract))\n"
   ]
  }
 ],
 "metadata": {
  "interpreter": {
   "hash": "80dbf84f0b0365a16d933da5a59789a873dc6d9e925070fb6792f3122b65dce8"
  },
  "kernelspec": {
   "display_name": "Python 3.9.7 64-bit",
   "name": "python3"
  },
  "language_info": {
   "codemirror_mode": {
    "name": "ipython",
    "version": 3
   },
   "file_extension": ".py",
   "mimetype": "text/x-python",
   "name": "python",
   "nbconvert_exporter": "python",
   "pygments_lexer": "ipython3",
   "version": "3.9.7"
  },
  "orig_nbformat": 4
 },
 "nbformat": 4,
 "nbformat_minor": 2
}
