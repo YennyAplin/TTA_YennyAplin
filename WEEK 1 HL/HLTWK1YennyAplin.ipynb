{
 "cells": [
  {
   "cell_type": "code",
   "execution_count": 10,
   "source": [
    "# Phyton Module 1\r\n",
    "# Task 1\r\n",
    "# Write a program that does the following:\r\n",
    "# a) Stores a random number (1 10) in a variable see hint below.\r\n",
    "# b) Asks a user for their name and stores this in a variable.\r\n",
    "# c) Asks a user to guess the number between 1 and 10.\r\n",
    "# d) Tells the user whether they have guessed correctly.\r\n",
    "\r\n",
    "import random\r\n",
    "myName = input (\"Hello! What is your name\")\r\n",
    "number = random.randint(1,10)\r\n",
    "print (\"Well, \"+ myName + \" I am thinking of a number between 1 and 10\")\r\n",
    "guess = int(input(\"Take a guess\"))\r\n",
    "\r\n",
    "if guess == number:\r\n",
    "    print(\"Good job\"+ myName +\"! You guessed the number\")\r\n",
    "else:\r\n",
    "    print(\"Wrong, better luck the next time\")"
   ],
   "outputs": [
    {
     "output_type": "stream",
     "name": "stdout",
     "text": [
      "Well, z I am thinking of a number between 1 and 10\n",
      "Wrong, better luck the next time\n"
     ]
    }
   ],
   "metadata": {}
  },
  {
   "cell_type": "code",
   "execution_count": 8,
   "source": [
    "# Phyton Module 1\r\n",
    "# Task 2\r\n",
    "# Write a program that asks a user for their favourite number between 1 and 100 and\r\n",
    "# then tells them a joke based on the number. You should use a minimum of 3 jokes.\r\n",
    "\r\n",
    "Number = int(input(\"Select a number between 1 and 100\"))\r\n",
    "\r\n",
    "if Number < 33:\r\n",
    "    print(\"I have a phobia of speed bumps, but I'm getting over it slowly\")\r\n",
    "elif Number < 66:\r\n",
    "    print(\"Why did the chicken want to die? To get to the other side\")\r\n",
    "elif (Number >= 66) and (Number <= 100):\r\n",
    "    print(\"What is ET short for? He's only got small legs\")\r\n",
    "else:\r\n",
    "    print(\"Your Number is incorret, it cannot be over 100\")\r\n"
   ],
   "outputs": [
    {
     "output_type": "stream",
     "name": "stdout",
     "text": [
      "What is ET short for? He's only got small legs\n"
     ]
    }
   ],
   "metadata": {}
  },
  {
   "cell_type": "code",
   "execution_count": 29,
   "source": [
    "# Phyton Module 1\r\n",
    "# Task 3\r\n",
    "# Write a program that allows user to enter their favourite starter, maincourse, dessert and drink.\r\n",
    "# Concatenate these and output a message which says –“Your favourite meal is …… with a glass of….”\r\n",
    "\r\n",
    "starter = input (\"Please enter your favourite Starter: \")\r\n",
    "main_course = input (\"Please enter your favourite Main Course: \")\r\n",
    "dessert = input (\"Please enter your favourite Dessert: \")\r\n",
    "drink = input (\"Please enter your favourite Drink: \")\r\n",
    "\r\n",
    "print (\"Your favourite meal is: a starter of \"+ starter +\", followed by \"+ main_course +\", finishing with \"+ dessert + \" with a glass of \" + drink )"
   ],
   "outputs": [
    {
     "output_type": "stream",
     "name": "stdout",
     "text": [
      "Your favourite meal is: a starter of Prawn, followed by Chicken Grill, finishing with Ice Cream with a glass of wine\n"
     ]
    }
   ],
   "metadata": {}
  },
  {
   "cell_type": "code",
   "execution_count": 18,
   "source": [
    "# Phyton Module 1\r\n",
    "# Task 4\r\n",
    "# A motorbike costs £2000 and loses 10% of its value every year. Using a loop, \r\n",
    "# print the value of the bike every following year until it falls below £1000\r\n",
    "\r\n",
    "motorbike_cost = 2000\r\n",
    "\r\n",
    "while motorbike_cost > 1000:\r\n",
    "    print(\"The motorbike is valued at\",motorbike_cost)\r\n",
    "    motorbike_cost *=0.9 "
   ],
   "outputs": [
    {
     "output_type": "stream",
     "name": "stdout",
     "text": [
      "The motorbike is valued at 2000\n",
      "The motorbike is valued at 1800.0\n",
      "The motorbike is valued at 1620.0\n",
      "The motorbike is valued at 1458.0\n",
      "The motorbike is valued at 1312.2\n",
      "The motorbike is valued at 1180.98\n",
      "The motorbike is valued at 1062.882\n"
     ]
    }
   ],
   "metadata": {}
  },
  {
   "cell_type": "code",
   "execution_count": 22,
   "source": [
    "# Phyton Module 1\r\n",
    "# Task 5\r\n",
    "# Write a program which will ask for two numbers from a user. Then offer a menu to the user giving them a choice of operator:\r\n",
    "# e.g. Enter “a” if you want to add, “b” if you want to subtract. Include +, -, /, *, ** square (to the power of). \r\n",
    "# Once the user has selected which operator they wish to use, perform the calculation.\r\n",
    "\r\n",
    "number_1 = int(input(\"Enter your First Number: \"))\r\n",
    "number_2 = int(input(\"Enter your Second Number: \"))\r\n",
    "operator = input (\"Please enter your Operator Choice (+,-,/,*,**): \")\r\n",
    "\r\n",
    "if operator == \"+\":\r\n",
    "    print(number_1 + number_2)\r\n",
    "elif operator == \"-\":\r\n",
    "    print(number_1 - number_2)\r\n",
    "elif operator == \"/\":\r\n",
    "    print(number_1 / number_2)\r\n",
    "elif operator == \"*\":\r\n",
    "    print(number_1 * number_2) \r\n",
    "elif operator == \"**\":\r\n",
    "    print(number_1 ** number_2)    \r\n",
    "else:\r\n",
    "    print(\"Your Operator Choice is Incorret\")\r\n",
    "\r\n"
   ],
   "outputs": [
    {
     "output_type": "stream",
     "name": "stdout",
     "text": [
      "10\n"
     ]
    }
   ],
   "metadata": {}
  },
  {
   "cell_type": "code",
   "execution_count": 34,
   "source": [
    "# Phyton Session 2\r\n",
    "# Task 1\r\n",
    "# Create your own Flow Diagram, a subject of your own choice, Example: Fast food order and convert it into code.\r\n",
    "# My example is an Ice-Cream Van order\r\n",
    "\r\n",
    "print(\"------Mr Whippy's Ice-Cream Van-----\")\r\n",
    "print(\"A - Ice-Cream: £5.00\")\r\n",
    "print(\"B - Chocolate Flake: £2.00\")\r\n",
    "print(\"C - Sprinkles: £1.00\")\r\n",
    "\r\n",
    "menu = [\"Ice-Cream\"]\r\n",
    "total_cost = 5\r\n",
    "\r\n",
    "option = input(\"Would you like a Flake with your Ice-Cream? Yes/No \") \r\n",
    "if option == \"Yes\":\r\n",
    "\r\n",
    "    menu.append(\"Flake\")\r\n",
    "    total_cost += 2\r\n",
    "\r\n",
    "option = input(\"Would you like Sprinkles with your Ice-Cream? Yes/No \") \r\n",
    "if option == \"Yes\":\r\n",
    "\r\n",
    "    menu.append(\"Sprinkles\")\r\n",
    "    total_cost += 1\r\n",
    "    \r\n",
    "print(\"-----Thank you for your order-----\")\r\n",
    "print(\"Your order Summary is:\")\r\n",
    "\r\n",
    "for i in range(len(menu)):\r\n",
    "    print (menu[i]) \r\n",
    "print(\"Total Cost: £\"+ str(total_cost))  \r\n"
   ],
   "outputs": [
    {
     "output_type": "stream",
     "name": "stdout",
     "text": [
      "------Mr Whippy's Ice-Cream Van-----\n",
      "A - Ice-Cream: £5.00\n",
      "B - Chocolate Flake: £2.00\n",
      "C - Sprinkles: £1.00\n",
      "-----Thank you for your order-----\n",
      "Your order Summary is:\n",
      "Ice-Cream\n",
      "Total Cost: £5\n"
     ]
    }
   ],
   "metadata": {}
  },
  {
   "cell_type": "code",
   "execution_count": 36,
   "source": [
    "# Phyton Session 2\r\n",
    "# Task 2\r\n",
    "# As an extension to the motorbike task that costs £2000 and loses 10% of its value every year. Set up a function that performs the \r\n",
    "# calculation by passing in parameters. Then using a loop, print the value of the bike every following year until it falls below £1000\r\n",
    "\r\n",
    "motorbike_cost = 2000\r\n",
    "\r\n",
    "def calculation (cost):\r\n",
    "    cost *=0.9\r\n",
    "    return cost\r\n",
    "\r\n",
    "while motorbike_cost > 1000:\r\n",
    "    print(\"The motorbike is valued at\",motorbike_cost)\r\n",
    "    motorbike_cost=calculation(motorbike_cost)"
   ],
   "outputs": [
    {
     "output_type": "stream",
     "name": "stdout",
     "text": [
      "The motorbike is valued at 2000\n",
      "The motorbike is valued at 1800.0\n",
      "The motorbike is valued at 1620.0\n",
      "The motorbike is valued at 1458.0\n",
      "The motorbike is valued at 1312.2\n",
      "The motorbike is valued at 1180.98\n",
      "The motorbike is valued at 1062.882\n"
     ]
    }
   ],
   "metadata": {}
  },
  {
   "cell_type": "code",
   "execution_count": 37,
   "source": [
    "# Phyton Session 2\r\n",
    "# Task 3\r\n",
    "# Write a program which will ask for two numbers from a user. Then offer an option menu to the user giving them \r\n",
    "# a choice of maths operators. Once the user has selected which operator they wish to use, perform the calculation\r\n",
    "# by using a procedure and passing parameters.\r\n",
    "\r\n",
    "number_1 = int(input(\"Enter your First Number: \"))\r\n",
    "number_2 = int(input(\"Enter your Second Number: \"))\r\n",
    "operator = input (\"Please enter your Operator Choice (+,-,/,*,**): \")\r\n",
    "\r\n",
    "def add(x, y):\r\n",
    "    print(x + y)\r\n",
    "\r\n",
    "def subtract(x, y):\r\n",
    "    print(x - y)\r\n",
    "\r\n",
    "def divide(x, y):\r\n",
    "    print(x / y) \r\n",
    "\r\n",
    "def multiply(x, y):\r\n",
    "    print(x * y)\r\n",
    "    \r\n",
    "def square_power(x, y):\r\n",
    "    print(x ** y)\r\n",
    "\r\n",
    "if operator == \"+\":\r\n",
    "    add(number_1, number_2)\r\n",
    "elif operator == \"-\":\r\n",
    "    subtract(number_1, number_2)\r\n",
    "elif operator == \"/\":\r\n",
    "    divide(number_1, number_2)\r\n",
    "elif operator == \"*\":\r\n",
    "    multiply(number_1, number_2) \r\n",
    "elif operator == \"**\":\r\n",
    "    square_power(number_1, number_2)    \r\n",
    "else:\r\n",
    "    print(\"Your Operator Choice is Incorret\")\r\n",
    "    "
   ],
   "outputs": [
    {
     "output_type": "stream",
     "name": "stdout",
     "text": [
      "5\n"
     ]
    }
   ],
   "metadata": {}
  },
  {
   "cell_type": "code",
   "execution_count": 40,
   "source": [
    "# Phyton Session 3\r\n",
    "# Task 1\r\n",
    "# Write a program that allows you to enter 4 numbers and stores them in a file called “Numbers”\r\n",
    "\r\n",
    "Num_1  = input(\"Please enter Number1 \")\r\n",
    "Num_2  = input(\"Please enter Number2 \")\r\n",
    "Num_3  = input(\"Please enter Number3 \")\r\n",
    "Num_4  = input(\"Please enter Number4 \")\r\n",
    "\r\n",
    "my_file = open(\"Numbers.txt\", \"w\")\r\n",
    "my_file.write(\"\\u2022 \" + Num_1)\r\n",
    "my_file.write(\"\\n\")\r\n",
    "my_file.close()\r\n",
    "\r\n",
    "\r\n",
    "def procedure(A):\r\n",
    "    my_file = open(\"Numbers.txt\", \"a\")\r\n",
    "    my_file.write(\"\\u2022 \" + A)\r\n",
    "    my_file.write(\"\\n\")\r\n",
    "    my_file.close()\r\n",
    "\r\n",
    "procedure(Num_2)\r\n",
    "procedure(Num_3)\r\n",
    "procedure(Num_4)"
   ],
   "outputs": [],
   "metadata": {}
  },
  {
   "cell_type": "code",
   "execution_count": 15,
   "source": [
    "# Phyton Session 3\r\n",
    "# Task 2\r\n",
    "# Write a program to ask a student for their percentage mark and convert this to a grade.\r\n",
    "# The conversion will be done in a function called mark_grade\r\n",
    "\r\n",
    "percentage_mark = int(input(\"Please enter your percentage mark?: \"))\r\n",
    "\r\n",
    "def mark_grade(x):\r\n",
    "    \r\n",
    "    if (x >= 0) and (x <=39):\r\n",
    "        grade = \"F\"\r\n",
    "    elif (x >= 40) and (x <=49):\r\n",
    "        grade = \"E\"\r\n",
    "    elif (x >= 50) and (x <=59):\r\n",
    "        grade = \"D\"\r\n",
    "    elif (x >= 60) and (x <=69):\r\n",
    "        grade = \"C\"\r\n",
    "    elif (x >= 70) and (x <=79):\r\n",
    "        grade = \"B\"\r\n",
    "    elif (x >= 80) and (x <=100):\r\n",
    "        grade = \"A\"\r\n",
    "    return grade\r\n",
    "    \r\n",
    "exam_grade = mark_grade(percentage_mark)\r\n",
    "\r\n",
    "print(\"Your equivalent exam grade is: \" + exam_grade)\r\n",
    "\r\n",
    "# Extension to Task 2:\r\n",
    "# Ask the user for their target grade and print this with their mark\r\n",
    "# If their target grade > exam grade display a suitable message\r\n",
    "# If their target grade = exam grade display a suitable message\r\n",
    "# If their target grade < exam grade display a suitable message\r\n",
    "\r\n",
    "target_grade = str(input(\"Please enter your target grade?: \"))\r\n",
    "\r\n",
    "if target_grade > exam_grade:\r\n",
    "    print (\"Excellent, your target grade: \"+ target_grade +\" has been exceeded\")\r\n",
    "elif target_grade == exam_grade:\r\n",
    "    print(\"Congratulations your target grade: \"+ target_grade +\" has been achieved\")\r\n",
    "elif target_grade < exam_grade:\r\n",
    "     print (\"Unfortunately, your target grade: \"+ target_grade +\" has not been achieved\")\r\n",
    "     "
   ],
   "outputs": [
    {
     "output_type": "stream",
     "name": "stdout",
     "text": [
      "Your equivalent exam grade is: D\n",
      "Excellent, your target grade: F has been exceeded\n"
     ]
    }
   ],
   "metadata": {}
  }
 ],
 "metadata": {
  "orig_nbformat": 4,
  "language_info": {
   "name": "python",
   "version": "3.9.7",
   "mimetype": "text/x-python",
   "codemirror_mode": {
    "name": "ipython",
    "version": 3
   },
   "pygments_lexer": "ipython3",
   "nbconvert_exporter": "python",
   "file_extension": ".py"
  },
  "kernelspec": {
   "name": "python3",
   "display_name": "Python 3.9.7 64-bit"
  },
  "interpreter": {
   "hash": "80dbf84f0b0365a16d933da5a59789a873dc6d9e925070fb6792f3122b65dce8"
  }
 },
 "nbformat": 4,
 "nbformat_minor": 2
}